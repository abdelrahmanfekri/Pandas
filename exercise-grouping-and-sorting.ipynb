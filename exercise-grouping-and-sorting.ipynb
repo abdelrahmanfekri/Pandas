{
 "cells": [
  {
   "cell_type": "markdown",
   "id": "fe3a4823",
   "metadata": {
    "papermill": {
     "duration": 0.007498,
     "end_time": "2023-02-21T10:00:37.780623",
     "exception": false,
     "start_time": "2023-02-21T10:00:37.773125",
     "status": "completed"
    },
    "tags": []
   },
   "source": [
    "**This notebook is an exercise in the [Pandas](https://www.kaggle.com/learn/pandas) course.  You can reference the tutorial at [this link](https://www.kaggle.com/residentmario/grouping-and-sorting).**\n",
    "\n",
    "---\n"
   ]
  },
  {
   "cell_type": "markdown",
   "id": "79368423",
   "metadata": {
    "papermill": {
     "duration": 0.005827,
     "end_time": "2023-02-21T10:00:37.792996",
     "exception": false,
     "start_time": "2023-02-21T10:00:37.787169",
     "status": "completed"
    },
    "tags": []
   },
   "source": [
    "# Introduction\n",
    "\n",
    "In these exercises we'll apply groupwise analysis to our dataset.\n",
    "\n",
    "Run the code cell below to load the data before running the exercises."
   ]
  },
  {
   "cell_type": "code",
   "execution_count": 1,
   "id": "08a34276",
   "metadata": {
    "execution": {
     "iopub.execute_input": "2023-02-21T10:00:37.808201Z",
     "iopub.status.busy": "2023-02-21T10:00:37.807274Z",
     "iopub.status.idle": "2023-02-21T10:00:41.000727Z",
     "shell.execute_reply": "2023-02-21T10:00:40.999879Z"
    },
    "papermill": {
     "duration": 3.204791,
     "end_time": "2023-02-21T10:00:41.003992",
     "exception": false,
     "start_time": "2023-02-21T10:00:37.799201",
     "status": "completed"
    },
    "tags": []
   },
   "outputs": [
    {
     "name": "stdout",
     "output_type": "stream",
     "text": [
      "Setup complete.\n"
     ]
    }
   ],
   "source": [
    "import pandas as pd\n",
    "\n",
    "reviews = pd.read_csv(\"../input/wine-reviews/winemag-data-130k-v2.csv\", index_col=0)\n",
    "#pd.set_option(\"display.max_rows\", 5)\n",
    "\n",
    "from learntools.core import binder; binder.bind(globals())\n",
    "from learntools.pandas.grouping_and_sorting import *\n",
    "print(\"Setup complete.\")"
   ]
  },
  {
   "cell_type": "markdown",
   "id": "5bce9239",
   "metadata": {
    "papermill": {
     "duration": 0.0059,
     "end_time": "2023-02-21T10:00:41.016298",
     "exception": false,
     "start_time": "2023-02-21T10:00:41.010398",
     "status": "completed"
    },
    "tags": []
   },
   "source": [
    "# Exercises"
   ]
  },
  {
   "cell_type": "markdown",
   "id": "2586abde",
   "metadata": {
    "papermill": {
     "duration": 0.005771,
     "end_time": "2023-02-21T10:00:41.028206",
     "exception": false,
     "start_time": "2023-02-21T10:00:41.022435",
     "status": "completed"
    },
    "tags": []
   },
   "source": [
    "## 1.\n",
    "Who are the most common wine reviewers in the dataset? Create a `Series` whose index is the `taster_twitter_handle` category from the dataset, and whose values count how many reviews each person wrote."
   ]
  },
  {
   "cell_type": "code",
   "execution_count": 2,
   "id": "3aabe265",
   "metadata": {
    "execution": {
     "iopub.execute_input": "2023-02-21T10:00:41.043347Z",
     "iopub.status.busy": "2023-02-21T10:00:41.041940Z",
     "iopub.status.idle": "2023-02-21T10:00:41.076796Z",
     "shell.execute_reply": "2023-02-21T10:00:41.075350Z"
    },
    "papermill": {
     "duration": 0.045068,
     "end_time": "2023-02-21T10:00:41.079458",
     "exception": false,
     "start_time": "2023-02-21T10:00:41.034390",
     "status": "completed"
    },
    "tags": []
   },
   "outputs": [
    {
     "data": {
      "text/html": [
       "<div>\n",
       "<style scoped>\n",
       "    .dataframe tbody tr th:only-of-type {\n",
       "        vertical-align: middle;\n",
       "    }\n",
       "\n",
       "    .dataframe tbody tr th {\n",
       "        vertical-align: top;\n",
       "    }\n",
       "\n",
       "    .dataframe thead th {\n",
       "        text-align: right;\n",
       "    }\n",
       "</style>\n",
       "<table border=\"1\" class=\"dataframe\">\n",
       "  <thead>\n",
       "    <tr style=\"text-align: right;\">\n",
       "      <th></th>\n",
       "      <th>country</th>\n",
       "      <th>description</th>\n",
       "      <th>designation</th>\n",
       "      <th>points</th>\n",
       "      <th>price</th>\n",
       "      <th>province</th>\n",
       "      <th>region_1</th>\n",
       "      <th>region_2</th>\n",
       "      <th>taster_name</th>\n",
       "      <th>taster_twitter_handle</th>\n",
       "      <th>title</th>\n",
       "      <th>variety</th>\n",
       "      <th>winery</th>\n",
       "    </tr>\n",
       "  </thead>\n",
       "  <tbody>\n",
       "    <tr>\n",
       "      <th>0</th>\n",
       "      <td>Italy</td>\n",
       "      <td>Aromas include tropical fruit, broom, brimston...</td>\n",
       "      <td>Vulkà Bianco</td>\n",
       "      <td>87</td>\n",
       "      <td>NaN</td>\n",
       "      <td>Sicily &amp; Sardinia</td>\n",
       "      <td>Etna</td>\n",
       "      <td>NaN</td>\n",
       "      <td>Kerin O’Keefe</td>\n",
       "      <td>@kerinokeefe</td>\n",
       "      <td>Nicosia 2013 Vulkà Bianco  (Etna)</td>\n",
       "      <td>White Blend</td>\n",
       "      <td>Nicosia</td>\n",
       "    </tr>\n",
       "    <tr>\n",
       "      <th>1</th>\n",
       "      <td>Portugal</td>\n",
       "      <td>This is ripe and fruity, a wine that is smooth...</td>\n",
       "      <td>Avidagos</td>\n",
       "      <td>87</td>\n",
       "      <td>15.0</td>\n",
       "      <td>Douro</td>\n",
       "      <td>NaN</td>\n",
       "      <td>NaN</td>\n",
       "      <td>Roger Voss</td>\n",
       "      <td>@vossroger</td>\n",
       "      <td>Quinta dos Avidagos 2011 Avidagos Red (Douro)</td>\n",
       "      <td>Portuguese Red</td>\n",
       "      <td>Quinta dos Avidagos</td>\n",
       "    </tr>\n",
       "    <tr>\n",
       "      <th>2</th>\n",
       "      <td>US</td>\n",
       "      <td>Tart and snappy, the flavors of lime flesh and...</td>\n",
       "      <td>NaN</td>\n",
       "      <td>87</td>\n",
       "      <td>14.0</td>\n",
       "      <td>Oregon</td>\n",
       "      <td>Willamette Valley</td>\n",
       "      <td>Willamette Valley</td>\n",
       "      <td>Paul Gregutt</td>\n",
       "      <td>@paulgwine</td>\n",
       "      <td>Rainstorm 2013 Pinot Gris (Willamette Valley)</td>\n",
       "      <td>Pinot Gris</td>\n",
       "      <td>Rainstorm</td>\n",
       "    </tr>\n",
       "    <tr>\n",
       "      <th>3</th>\n",
       "      <td>US</td>\n",
       "      <td>Pineapple rind, lemon pith and orange blossom ...</td>\n",
       "      <td>Reserve Late Harvest</td>\n",
       "      <td>87</td>\n",
       "      <td>13.0</td>\n",
       "      <td>Michigan</td>\n",
       "      <td>Lake Michigan Shore</td>\n",
       "      <td>NaN</td>\n",
       "      <td>Alexander Peartree</td>\n",
       "      <td>NaN</td>\n",
       "      <td>St. Julian 2013 Reserve Late Harvest Riesling ...</td>\n",
       "      <td>Riesling</td>\n",
       "      <td>St. Julian</td>\n",
       "    </tr>\n",
       "    <tr>\n",
       "      <th>4</th>\n",
       "      <td>US</td>\n",
       "      <td>Much like the regular bottling from 2012, this...</td>\n",
       "      <td>Vintner's Reserve Wild Child Block</td>\n",
       "      <td>87</td>\n",
       "      <td>65.0</td>\n",
       "      <td>Oregon</td>\n",
       "      <td>Willamette Valley</td>\n",
       "      <td>Willamette Valley</td>\n",
       "      <td>Paul Gregutt</td>\n",
       "      <td>@paulgwine</td>\n",
       "      <td>Sweet Cheeks 2012 Vintner's Reserve Wild Child...</td>\n",
       "      <td>Pinot Noir</td>\n",
       "      <td>Sweet Cheeks</td>\n",
       "    </tr>\n",
       "  </tbody>\n",
       "</table>\n",
       "</div>"
      ],
      "text/plain": [
       "    country                                        description  \\\n",
       "0     Italy  Aromas include tropical fruit, broom, brimston...   \n",
       "1  Portugal  This is ripe and fruity, a wine that is smooth...   \n",
       "2        US  Tart and snappy, the flavors of lime flesh and...   \n",
       "3        US  Pineapple rind, lemon pith and orange blossom ...   \n",
       "4        US  Much like the regular bottling from 2012, this...   \n",
       "\n",
       "                          designation  points  price           province  \\\n",
       "0                        Vulkà Bianco      87    NaN  Sicily & Sardinia   \n",
       "1                            Avidagos      87   15.0              Douro   \n",
       "2                                 NaN      87   14.0             Oregon   \n",
       "3                Reserve Late Harvest      87   13.0           Michigan   \n",
       "4  Vintner's Reserve Wild Child Block      87   65.0             Oregon   \n",
       "\n",
       "              region_1           region_2         taster_name  \\\n",
       "0                 Etna                NaN       Kerin O’Keefe   \n",
       "1                  NaN                NaN          Roger Voss   \n",
       "2    Willamette Valley  Willamette Valley        Paul Gregutt   \n",
       "3  Lake Michigan Shore                NaN  Alexander Peartree   \n",
       "4    Willamette Valley  Willamette Valley        Paul Gregutt   \n",
       "\n",
       "  taster_twitter_handle                                              title  \\\n",
       "0          @kerinokeefe                  Nicosia 2013 Vulkà Bianco  (Etna)   \n",
       "1            @vossroger      Quinta dos Avidagos 2011 Avidagos Red (Douro)   \n",
       "2           @paulgwine       Rainstorm 2013 Pinot Gris (Willamette Valley)   \n",
       "3                   NaN  St. Julian 2013 Reserve Late Harvest Riesling ...   \n",
       "4           @paulgwine   Sweet Cheeks 2012 Vintner's Reserve Wild Child...   \n",
       "\n",
       "          variety               winery  \n",
       "0     White Blend              Nicosia  \n",
       "1  Portuguese Red  Quinta dos Avidagos  \n",
       "2      Pinot Gris            Rainstorm  \n",
       "3        Riesling           St. Julian  \n",
       "4      Pinot Noir         Sweet Cheeks  "
      ]
     },
     "execution_count": 2,
     "metadata": {},
     "output_type": "execute_result"
    }
   ],
   "source": [
    "reviews.head()"
   ]
  },
  {
   "cell_type": "code",
   "execution_count": 3,
   "id": "73e58257",
   "metadata": {
    "execution": {
     "iopub.execute_input": "2023-02-21T10:00:41.094656Z",
     "iopub.status.busy": "2023-02-21T10:00:41.094228Z",
     "iopub.status.idle": "2023-02-21T10:00:41.125185Z",
     "shell.execute_reply": "2023-02-21T10:00:41.124038Z"
    },
    "papermill": {
     "duration": 0.041347,
     "end_time": "2023-02-21T10:00:41.127563",
     "exception": false,
     "start_time": "2023-02-21T10:00:41.086216",
     "status": "completed"
    },
    "tags": []
   },
   "outputs": [
    {
     "name": "stdout",
     "output_type": "stream",
     "text": [
      "taster_twitter_handle\n",
      "@AnneInVino          3685\n",
      "@JoeCz               5147\n",
      "@bkfiona               27\n",
      "@gordone_cellars     4177\n",
      "@kerinokeefe        10776\n",
      "@laurbuzz            1835\n",
      "@mattkettmann        6332\n",
      "@paulgwine           9532\n",
      "@suskostrzewa        1085\n",
      "@vboone              9537\n",
      "@vossroger          25514\n",
      "@wawinereport        4966\n",
      "@wineschach         15134\n",
      "@winewchristina         6\n",
      "@worldwineguys       1005\n",
      "Name: taster_twitter_handle, dtype: int64\n"
     ]
    },
    {
     "data": {
      "application/javascript": [
       "parent.postMessage({\"jupyterEvent\": \"custom.exercise_interaction\", \"data\": {\"outcomeType\": 1, \"valueTowardsCompletion\": 0.16666666666666666, \"interactionType\": 1, \"questionType\": 1, \"questionId\": \"1_ReviewsWritten\", \"learnToolsVersion\": \"0.3.4\", \"failureMessage\": \"\", \"exceptionClass\": \"\", \"trace\": \"\"}}, \"*\")"
      ],
      "text/plain": [
       "<IPython.core.display.Javascript object>"
      ]
     },
     "metadata": {},
     "output_type": "display_data"
    },
    {
     "data": {
      "text/markdown": [
       "<span style=\"color:#33cc33\">Correct:</span> \n",
       "\n",
       "\n",
       "```python\n",
       "reviews_written = reviews.groupby('taster_twitter_handle').size()\n",
       "```\n",
       "or\n",
       "```python\n",
       "reviews_written = reviews.groupby('taster_twitter_handle').taster_twitter_handle.count()\n",
       "```\n"
      ],
      "text/plain": [
       "Correct: \n",
       "\n",
       "\n",
       "```python\n",
       "reviews_written = reviews.groupby('taster_twitter_handle').size()\n",
       "```\n",
       "or\n",
       "```python\n",
       "reviews_written = reviews.groupby('taster_twitter_handle').taster_twitter_handle.count()\n",
       "```"
      ]
     },
     "metadata": {},
     "output_type": "display_data"
    }
   ],
   "source": [
    "# Your code \t\n",
    "reviews_written = reviews.groupby([\"taster_twitter_handle\"]).taster_twitter_handle.count()\n",
    "print(reviews_written)\n",
    "# Check your answer\n",
    "q1.check()"
   ]
  },
  {
   "cell_type": "code",
   "execution_count": 4,
   "id": "92fc5246",
   "metadata": {
    "execution": {
     "iopub.execute_input": "2023-02-21T10:00:41.143227Z",
     "iopub.status.busy": "2023-02-21T10:00:41.142831Z",
     "iopub.status.idle": "2023-02-21T10:00:41.147664Z",
     "shell.execute_reply": "2023-02-21T10:00:41.146500Z"
    },
    "papermill": {
     "duration": 0.015304,
     "end_time": "2023-02-21T10:00:41.149924",
     "exception": false,
     "start_time": "2023-02-21T10:00:41.134620",
     "status": "completed"
    },
    "tags": []
   },
   "outputs": [],
   "source": [
    "#q1.hint()\n",
    "#q1.solution()"
   ]
  },
  {
   "cell_type": "markdown",
   "id": "1b0120d9",
   "metadata": {
    "papermill": {
     "duration": 0.006641,
     "end_time": "2023-02-21T10:00:41.163683",
     "exception": false,
     "start_time": "2023-02-21T10:00:41.157042",
     "status": "completed"
    },
    "tags": []
   },
   "source": [
    "## 2.\n",
    "What is the best wine I can buy for a given amount of money? Create a `Series` whose index is wine prices and whose values is the maximum number of points a wine costing that much was given in a review. Sort the values by price, ascending (so that `4.0` dollars is at the top and `3300.0` dollars is at the bottom)."
   ]
  },
  {
   "cell_type": "code",
   "execution_count": 5,
   "id": "1acafb95",
   "metadata": {
    "execution": {
     "iopub.execute_input": "2023-02-21T10:00:41.179767Z",
     "iopub.status.busy": "2023-02-21T10:00:41.179005Z",
     "iopub.status.idle": "2023-02-21T10:00:41.193631Z",
     "shell.execute_reply": "2023-02-21T10:00:41.192394Z"
    },
    "papermill": {
     "duration": 0.025296,
     "end_time": "2023-02-21T10:00:41.195960",
     "exception": false,
     "start_time": "2023-02-21T10:00:41.170664",
     "status": "completed"
    },
    "tags": []
   },
   "outputs": [
    {
     "data": {
      "application/javascript": [
       "parent.postMessage({\"jupyterEvent\": \"custom.exercise_interaction\", \"data\": {\"outcomeType\": 1, \"valueTowardsCompletion\": 0.16666666666666666, \"interactionType\": 1, \"questionType\": 1, \"questionId\": \"2_BestRatingPerPrice\", \"learnToolsVersion\": \"0.3.4\", \"failureMessage\": \"\", \"exceptionClass\": \"\", \"trace\": \"\"}}, \"*\")"
      ],
      "text/plain": [
       "<IPython.core.display.Javascript object>"
      ]
     },
     "metadata": {},
     "output_type": "display_data"
    },
    {
     "data": {
      "text/markdown": [
       "<span style=\"color:#33cc33\">Correct</span>"
      ],
      "text/plain": [
       "Correct"
      ]
     },
     "metadata": {},
     "output_type": "display_data"
    }
   ],
   "source": [
    "best_rating_per_price = reviews.groupby(\"price\").points.agg(max)\n",
    "# Check your answer\n",
    "q2.check()"
   ]
  },
  {
   "cell_type": "code",
   "execution_count": 6,
   "id": "9993b378",
   "metadata": {
    "execution": {
     "iopub.execute_input": "2023-02-21T10:00:41.212228Z",
     "iopub.status.busy": "2023-02-21T10:00:41.211836Z",
     "iopub.status.idle": "2023-02-21T10:00:41.216388Z",
     "shell.execute_reply": "2023-02-21T10:00:41.215211Z"
    },
    "papermill": {
     "duration": 0.015404,
     "end_time": "2023-02-21T10:00:41.218625",
     "exception": false,
     "start_time": "2023-02-21T10:00:41.203221",
     "status": "completed"
    },
    "tags": []
   },
   "outputs": [],
   "source": [
    "#q2.hint()\n",
    "#q2.solution()"
   ]
  },
  {
   "cell_type": "markdown",
   "id": "17108854",
   "metadata": {
    "papermill": {
     "duration": 0.007032,
     "end_time": "2023-02-21T10:00:41.232990",
     "exception": false,
     "start_time": "2023-02-21T10:00:41.225958",
     "status": "completed"
    },
    "tags": []
   },
   "source": [
    "## 3.\n",
    "What are the minimum and maximum prices for each `variety` of wine? Create a `DataFrame` whose index is the `variety` category from the dataset and whose values are the `min` and `max` values thereof."
   ]
  },
  {
   "cell_type": "code",
   "execution_count": 7,
   "id": "c6c34cfd",
   "metadata": {
    "execution": {
     "iopub.execute_input": "2023-02-21T10:00:41.249256Z",
     "iopub.status.busy": "2023-02-21T10:00:41.248817Z",
     "iopub.status.idle": "2023-02-21T10:00:41.275921Z",
     "shell.execute_reply": "2023-02-21T10:00:41.274657Z"
    },
    "papermill": {
     "duration": 0.038278,
     "end_time": "2023-02-21T10:00:41.278594",
     "exception": false,
     "start_time": "2023-02-21T10:00:41.240316",
     "status": "completed"
    },
    "tags": []
   },
   "outputs": [
    {
     "data": {
      "application/javascript": [
       "parent.postMessage({\"jupyterEvent\": \"custom.exercise_interaction\", \"data\": {\"outcomeType\": 1, \"valueTowardsCompletion\": 0.16666666666666666, \"interactionType\": 1, \"questionType\": 1, \"questionId\": \"3_PriceExtremes\", \"learnToolsVersion\": \"0.3.4\", \"failureMessage\": \"\", \"exceptionClass\": \"\", \"trace\": \"\"}}, \"*\")"
      ],
      "text/plain": [
       "<IPython.core.display.Javascript object>"
      ]
     },
     "metadata": {},
     "output_type": "display_data"
    },
    {
     "data": {
      "text/markdown": [
       "<span style=\"color:#33cc33\">Correct</span>"
      ],
      "text/plain": [
       "Correct"
      ]
     },
     "metadata": {},
     "output_type": "display_data"
    }
   ],
   "source": [
    "price_extremes = reviews.groupby(\"variety\").price.agg([min,max])\n",
    "\n",
    "# Check your answer\n",
    "q3.check()"
   ]
  },
  {
   "cell_type": "code",
   "execution_count": 8,
   "id": "01df1bd6",
   "metadata": {
    "execution": {
     "iopub.execute_input": "2023-02-21T10:00:41.295893Z",
     "iopub.status.busy": "2023-02-21T10:00:41.295433Z",
     "iopub.status.idle": "2023-02-21T10:00:41.299760Z",
     "shell.execute_reply": "2023-02-21T10:00:41.298441Z"
    },
    "papermill": {
     "duration": 0.016286,
     "end_time": "2023-02-21T10:00:41.302458",
     "exception": false,
     "start_time": "2023-02-21T10:00:41.286172",
     "status": "completed"
    },
    "tags": []
   },
   "outputs": [],
   "source": [
    "#q3.hint()\n",
    "#q3.solution()"
   ]
  },
  {
   "cell_type": "markdown",
   "id": "59489327",
   "metadata": {
    "papermill": {
     "duration": 0.007411,
     "end_time": "2023-02-21T10:00:41.317872",
     "exception": false,
     "start_time": "2023-02-21T10:00:41.310461",
     "status": "completed"
    },
    "tags": []
   },
   "source": [
    "## 4.\n",
    "What are the most expensive wine varieties? Create a variable `sorted_varieties` containing a copy of the dataframe from the previous question where varieties are sorted in descending order based on minimum price, then on maximum price (to break ties)."
   ]
  },
  {
   "cell_type": "code",
   "execution_count": 9,
   "id": "fa7bd23b",
   "metadata": {
    "execution": {
     "iopub.execute_input": "2023-02-21T10:00:41.335035Z",
     "iopub.status.busy": "2023-02-21T10:00:41.334577Z",
     "iopub.status.idle": "2023-02-21T10:00:41.348288Z",
     "shell.execute_reply": "2023-02-21T10:00:41.347042Z"
    },
    "papermill": {
     "duration": 0.025341,
     "end_time": "2023-02-21T10:00:41.350827",
     "exception": false,
     "start_time": "2023-02-21T10:00:41.325486",
     "status": "completed"
    },
    "tags": []
   },
   "outputs": [
    {
     "data": {
      "application/javascript": [
       "parent.postMessage({\"jupyterEvent\": \"custom.exercise_interaction\", \"data\": {\"outcomeType\": 1, \"valueTowardsCompletion\": 0.16666666666666666, \"interactionType\": 1, \"questionType\": 1, \"questionId\": \"4_SortedVarieties\", \"learnToolsVersion\": \"0.3.4\", \"failureMessage\": \"\", \"exceptionClass\": \"\", \"trace\": \"\"}}, \"*\")"
      ],
      "text/plain": [
       "<IPython.core.display.Javascript object>"
      ]
     },
     "metadata": {},
     "output_type": "display_data"
    },
    {
     "data": {
      "text/markdown": [
       "<span style=\"color:#33cc33\">Correct</span>"
      ],
      "text/plain": [
       "Correct"
      ]
     },
     "metadata": {},
     "output_type": "display_data"
    }
   ],
   "source": [
    "sorted_varieties = price_extremes.sort_values(by=[\"min\",\"max\"],ascending=False)\n",
    "\n",
    "# Check your answer\n",
    "q4.check()"
   ]
  },
  {
   "cell_type": "code",
   "execution_count": 10,
   "id": "c09574f6",
   "metadata": {
    "execution": {
     "iopub.execute_input": "2023-02-21T10:00:41.368444Z",
     "iopub.status.busy": "2023-02-21T10:00:41.368004Z",
     "iopub.status.idle": "2023-02-21T10:00:41.373126Z",
     "shell.execute_reply": "2023-02-21T10:00:41.371880Z"
    },
    "papermill": {
     "duration": 0.016918,
     "end_time": "2023-02-21T10:00:41.375538",
     "exception": false,
     "start_time": "2023-02-21T10:00:41.358620",
     "status": "completed"
    },
    "tags": []
   },
   "outputs": [],
   "source": [
    "#q4.hint()\n",
    "#q4.solution()"
   ]
  },
  {
   "cell_type": "markdown",
   "id": "5ef6a6c2",
   "metadata": {
    "papermill": {
     "duration": 0.007941,
     "end_time": "2023-02-21T10:00:41.391240",
     "exception": false,
     "start_time": "2023-02-21T10:00:41.383299",
     "status": "completed"
    },
    "tags": []
   },
   "source": [
    "## 5.\n",
    "Create a `Series` whose index is reviewers and whose values is the average review score given out by that reviewer. Hint: you will need the `taster_name` and `points` columns."
   ]
  },
  {
   "cell_type": "code",
   "execution_count": 11,
   "id": "5e41e61e",
   "metadata": {
    "execution": {
     "iopub.execute_input": "2023-02-21T10:00:41.409385Z",
     "iopub.status.busy": "2023-02-21T10:00:41.408216Z",
     "iopub.status.idle": "2023-02-21T10:00:41.430940Z",
     "shell.execute_reply": "2023-02-21T10:00:41.429690Z"
    },
    "papermill": {
     "duration": 0.034383,
     "end_time": "2023-02-21T10:00:41.433477",
     "exception": false,
     "start_time": "2023-02-21T10:00:41.399094",
     "status": "completed"
    },
    "tags": []
   },
   "outputs": [
    {
     "data": {
      "application/javascript": [
       "parent.postMessage({\"jupyterEvent\": \"custom.exercise_interaction\", \"data\": {\"outcomeType\": 1, \"valueTowardsCompletion\": 0.16666666666666666, \"interactionType\": 1, \"questionType\": 1, \"questionId\": \"5_ReviewerMeanRatings\", \"learnToolsVersion\": \"0.3.4\", \"failureMessage\": \"\", \"exceptionClass\": \"\", \"trace\": \"\"}}, \"*\")"
      ],
      "text/plain": [
       "<IPython.core.display.Javascript object>"
      ]
     },
     "metadata": {},
     "output_type": "display_data"
    },
    {
     "data": {
      "text/markdown": [
       "<span style=\"color:#33cc33\">Correct</span>"
      ],
      "text/plain": [
       "Correct"
      ]
     },
     "metadata": {},
     "output_type": "display_data"
    }
   ],
   "source": [
    "reviewer_mean_ratings = reviews.groupby(\"taster_name\").points.mean()\n",
    "\n",
    "# Check your answer\n",
    "q5.check()"
   ]
  },
  {
   "cell_type": "code",
   "execution_count": 12,
   "id": "2b5d9c8d",
   "metadata": {
    "execution": {
     "iopub.execute_input": "2023-02-21T10:00:41.451902Z",
     "iopub.status.busy": "2023-02-21T10:00:41.451450Z",
     "iopub.status.idle": "2023-02-21T10:00:41.456294Z",
     "shell.execute_reply": "2023-02-21T10:00:41.454862Z"
    },
    "papermill": {
     "duration": 0.017401,
     "end_time": "2023-02-21T10:00:41.458956",
     "exception": false,
     "start_time": "2023-02-21T10:00:41.441555",
     "status": "completed"
    },
    "tags": []
   },
   "outputs": [],
   "source": [
    "#q5.hint()\n",
    "#q5.solution()"
   ]
  },
  {
   "cell_type": "markdown",
   "id": "9df6ffb2",
   "metadata": {
    "papermill": {
     "duration": 0.007739,
     "end_time": "2023-02-21T10:00:41.474721",
     "exception": false,
     "start_time": "2023-02-21T10:00:41.466982",
     "status": "completed"
    },
    "tags": []
   },
   "source": [
    "Are there significant differences in the average scores assigned by the various reviewers? Run the cell below to use the `describe()` method to see a summary of the range of values."
   ]
  },
  {
   "cell_type": "code",
   "execution_count": 13,
   "id": "3940f664",
   "metadata": {
    "execution": {
     "iopub.execute_input": "2023-02-21T10:00:41.492555Z",
     "iopub.status.busy": "2023-02-21T10:00:41.492141Z",
     "iopub.status.idle": "2023-02-21T10:00:41.504026Z",
     "shell.execute_reply": "2023-02-21T10:00:41.502846Z"
    },
    "papermill": {
     "duration": 0.023733,
     "end_time": "2023-02-21T10:00:41.506433",
     "exception": false,
     "start_time": "2023-02-21T10:00:41.482700",
     "status": "completed"
    },
    "tags": []
   },
   "outputs": [
    {
     "data": {
      "text/plain": [
       "count    19.000000\n",
       "mean     88.233026\n",
       "std       1.243610\n",
       "min      85.855422\n",
       "25%      87.323501\n",
       "50%      88.536235\n",
       "75%      88.975256\n",
       "max      90.562551\n",
       "Name: points, dtype: float64"
      ]
     },
     "execution_count": 13,
     "metadata": {},
     "output_type": "execute_result"
    }
   ],
   "source": [
    "reviewer_mean_ratings.describe()"
   ]
  },
  {
   "cell_type": "markdown",
   "id": "b62817b9",
   "metadata": {
    "papermill": {
     "duration": 0.007645,
     "end_time": "2023-02-21T10:00:41.522111",
     "exception": false,
     "start_time": "2023-02-21T10:00:41.514466",
     "status": "completed"
    },
    "tags": []
   },
   "source": [
    "## 6.\n",
    "What combination of countries and varieties are most common? Create a `Series` whose index is a `MultiIndex`of `{country, variety}` pairs. For example, a pinot noir produced in the US should map to `{\"US\", \"Pinot Noir\"}`. Sort the values in the `Series` in descending order based on wine count."
   ]
  },
  {
   "cell_type": "code",
   "execution_count": 14,
   "id": "5e7c9520",
   "metadata": {
    "execution": {
     "iopub.execute_input": "2023-02-21T10:00:41.540705Z",
     "iopub.status.busy": "2023-02-21T10:00:41.539364Z",
     "iopub.status.idle": "2023-02-21T10:00:41.593106Z",
     "shell.execute_reply": "2023-02-21T10:00:41.591989Z"
    },
    "papermill": {
     "duration": 0.065599,
     "end_time": "2023-02-21T10:00:41.595632",
     "exception": false,
     "start_time": "2023-02-21T10:00:41.530033",
     "status": "completed"
    },
    "tags": []
   },
   "outputs": [
    {
     "data": {
      "application/javascript": [
       "parent.postMessage({\"jupyterEvent\": \"custom.exercise_interaction\", \"data\": {\"outcomeType\": 1, \"valueTowardsCompletion\": 0.16666666666666666, \"interactionType\": 1, \"questionType\": 1, \"questionId\": \"6_GroupbyCountryVariety\", \"learnToolsVersion\": \"0.3.4\", \"failureMessage\": \"\", \"exceptionClass\": \"\", \"trace\": \"\"}}, \"*\")"
      ],
      "text/plain": [
       "<IPython.core.display.Javascript object>"
      ]
     },
     "metadata": {},
     "output_type": "display_data"
    },
    {
     "data": {
      "text/markdown": [
       "<span style=\"color:#33cc33\">Correct</span>"
      ],
      "text/plain": [
       "Correct"
      ]
     },
     "metadata": {},
     "output_type": "display_data"
    }
   ],
   "source": [
    "country_variety_counts = reviews.groupby([\"country\",\"variety\"]).variety.agg(len).sort_values(ascending=False)\n",
    "# Check your answer\n",
    "q6.check()"
   ]
  },
  {
   "cell_type": "code",
   "execution_count": 15,
   "id": "4aacc48d",
   "metadata": {
    "execution": {
     "iopub.execute_input": "2023-02-21T10:00:41.614251Z",
     "iopub.status.busy": "2023-02-21T10:00:41.613338Z",
     "iopub.status.idle": "2023-02-21T10:00:41.617886Z",
     "shell.execute_reply": "2023-02-21T10:00:41.616990Z"
    },
    "papermill": {
     "duration": 0.015971,
     "end_time": "2023-02-21T10:00:41.619911",
     "exception": false,
     "start_time": "2023-02-21T10:00:41.603940",
     "status": "completed"
    },
    "tags": []
   },
   "outputs": [],
   "source": [
    "#q6.hint()\n",
    "#q6.solution()"
   ]
  },
  {
   "cell_type": "markdown",
   "id": "cf5c7572",
   "metadata": {
    "papermill": {
     "duration": 0.008056,
     "end_time": "2023-02-21T10:00:41.636247",
     "exception": false,
     "start_time": "2023-02-21T10:00:41.628191",
     "status": "completed"
    },
    "tags": []
   },
   "source": [
    "# Keep going\n",
    "\n",
    "Move on to the [**data types and missing data**](https://www.kaggle.com/residentmario/data-types-and-missing-values)."
   ]
  },
  {
   "cell_type": "markdown",
   "id": "18c89ca1",
   "metadata": {
    "papermill": {
     "duration": 0.007964,
     "end_time": "2023-02-21T10:00:41.653211",
     "exception": false,
     "start_time": "2023-02-21T10:00:41.645247",
     "status": "completed"
    },
    "tags": []
   },
   "source": [
    "---\n",
    "\n",
    "\n",
    "\n",
    "\n",
    "*Have questions or comments? Visit the [course discussion forum](https://www.kaggle.com/learn/pandas/discussion) to chat with other learners.*"
   ]
  }
 ],
 "metadata": {
  "kernelspec": {
   "display_name": "Python 3",
   "language": "python",
   "name": "python3"
  },
  "language_info": {
   "codemirror_mode": {
    "name": "ipython",
    "version": 3
   },
   "file_extension": ".py",
   "mimetype": "text/x-python",
   "name": "python",
   "nbconvert_exporter": "python",
   "pygments_lexer": "ipython3",
   "version": "3.7.12"
  },
  "papermill": {
   "default_parameters": {},
   "duration": 14.979204,
   "end_time": "2023-02-21T10:00:42.384394",
   "environment_variables": {},
   "exception": null,
   "input_path": "__notebook__.ipynb",
   "output_path": "__notebook__.ipynb",
   "parameters": {},
   "start_time": "2023-02-21T10:00:27.405190",
   "version": "2.3.4"
  }
 },
 "nbformat": 4,
 "nbformat_minor": 5
}
