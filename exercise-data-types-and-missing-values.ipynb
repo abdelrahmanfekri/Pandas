{
 "cells": [
  {
   "cell_type": "markdown",
   "id": "b331854c",
   "metadata": {
    "papermill": {
     "duration": 0.007057,
     "end_time": "2023-02-21T21:54:57.716547",
     "exception": false,
     "start_time": "2023-02-21T21:54:57.709490",
     "status": "completed"
    },
    "tags": []
   },
   "source": [
    "**This notebook is an exercise in the [Pandas](https://www.kaggle.com/learn/pandas) course.  You can reference the tutorial at [this link](https://www.kaggle.com/residentmario/data-types-and-missing-values).**\n",
    "\n",
    "---\n"
   ]
  },
  {
   "cell_type": "markdown",
   "id": "e57a1a21",
   "metadata": {
    "papermill": {
     "duration": 0.003803,
     "end_time": "2023-02-21T21:54:57.724528",
     "exception": false,
     "start_time": "2023-02-21T21:54:57.720725",
     "status": "completed"
    },
    "tags": []
   },
   "source": [
    "# Introduction\n",
    "\n",
    "Run the following cell to load your data and some utility functions."
   ]
  },
  {
   "cell_type": "code",
   "execution_count": 1,
   "id": "242cd775",
   "metadata": {
    "execution": {
     "iopub.execute_input": "2023-02-21T21:54:57.734779Z",
     "iopub.status.busy": "2023-02-21T21:54:57.734103Z",
     "iopub.status.idle": "2023-02-21T21:55:00.284694Z",
     "shell.execute_reply": "2023-02-21T21:55:00.283754Z"
    },
    "papermill": {
     "duration": 2.558393,
     "end_time": "2023-02-21T21:55:00.286891",
     "exception": false,
     "start_time": "2023-02-21T21:54:57.728498",
     "status": "completed"
    },
    "tags": []
   },
   "outputs": [
    {
     "name": "stdout",
     "output_type": "stream",
     "text": [
      "Setup complete.\n"
     ]
    }
   ],
   "source": [
    "import pandas as pd\n",
    "\n",
    "reviews = pd.read_csv(\"../input/wine-reviews/winemag-data-130k-v2.csv\", index_col=0)\n",
    "\n",
    "from learntools.core import binder; binder.bind(globals())\n",
    "from learntools.pandas.data_types_and_missing_data import *\n",
    "print(\"Setup complete.\")"
   ]
  },
  {
   "cell_type": "markdown",
   "id": "b029af27",
   "metadata": {
    "papermill": {
     "duration": 0.003789,
     "end_time": "2023-02-21T21:55:00.295058",
     "exception": false,
     "start_time": "2023-02-21T21:55:00.291269",
     "status": "completed"
    },
    "tags": []
   },
   "source": [
    "# Exercises"
   ]
  },
  {
   "cell_type": "markdown",
   "id": "617305a5",
   "metadata": {
    "papermill": {
     "duration": 0.003819,
     "end_time": "2023-02-21T21:55:00.302932",
     "exception": false,
     "start_time": "2023-02-21T21:55:00.299113",
     "status": "completed"
    },
    "tags": []
   },
   "source": [
    "## 1. \n",
    "What is the data type of the `points` column in the dataset?"
   ]
  },
  {
   "cell_type": "code",
   "execution_count": 2,
   "id": "42be6b37",
   "metadata": {
    "execution": {
     "iopub.execute_input": "2023-02-21T21:55:00.313166Z",
     "iopub.status.busy": "2023-02-21T21:55:00.312546Z",
     "iopub.status.idle": "2023-02-21T21:55:00.324106Z",
     "shell.execute_reply": "2023-02-21T21:55:00.322868Z"
    },
    "papermill": {
     "duration": 0.019609,
     "end_time": "2023-02-21T21:55:00.326704",
     "exception": false,
     "start_time": "2023-02-21T21:55:00.307095",
     "status": "completed"
    },
    "tags": []
   },
   "outputs": [
    {
     "name": "stdout",
     "output_type": "stream",
     "text": [
      "int64\n"
     ]
    },
    {
     "data": {
      "application/javascript": [
       "parent.postMessage({\"jupyterEvent\": \"custom.exercise_interaction\", \"data\": {\"outcomeType\": 1, \"valueTowardsCompletion\": 0.25, \"interactionType\": 1, \"questionType\": 1, \"questionId\": \"1_PointsDtype\", \"learnToolsVersion\": \"0.3.4\", \"failureMessage\": \"\", \"exceptionClass\": \"\", \"trace\": \"\"}}, \"*\")"
      ],
      "text/plain": [
       "<IPython.core.display.Javascript object>"
      ]
     },
     "metadata": {},
     "output_type": "display_data"
    },
    {
     "data": {
      "text/markdown": [
       "<span style=\"color:#33cc33\">Correct</span>"
      ],
      "text/plain": [
       "Correct"
      ]
     },
     "metadata": {},
     "output_type": "display_data"
    }
   ],
   "source": [
    "# Your code here\n",
    "dtype = reviews.points.dtype\n",
    "print(dtype)\n",
    "# Check your answer\n",
    "q1.check()"
   ]
  },
  {
   "cell_type": "code",
   "execution_count": 3,
   "id": "66fd7722",
   "metadata": {
    "execution": {
     "iopub.execute_input": "2023-02-21T21:55:00.338311Z",
     "iopub.status.busy": "2023-02-21T21:55:00.337731Z",
     "iopub.status.idle": "2023-02-21T21:55:00.343623Z",
     "shell.execute_reply": "2023-02-21T21:55:00.342110Z"
    },
    "papermill": {
     "duration": 0.016084,
     "end_time": "2023-02-21T21:55:00.347564",
     "exception": false,
     "start_time": "2023-02-21T21:55:00.331480",
     "status": "completed"
    },
    "tags": []
   },
   "outputs": [],
   "source": [
    "#q1.hint()\n",
    "#q1.solution()"
   ]
  },
  {
   "cell_type": "markdown",
   "id": "3e3446cd",
   "metadata": {
    "papermill": {
     "duration": 0.005104,
     "end_time": "2023-02-21T21:55:00.358971",
     "exception": false,
     "start_time": "2023-02-21T21:55:00.353867",
     "status": "completed"
    },
    "tags": []
   },
   "source": [
    "## 2. \n",
    "Create a Series from entries in the `points` column, but convert the entries to strings. Hint: strings are `str` in native Python."
   ]
  },
  {
   "cell_type": "code",
   "execution_count": 4,
   "id": "b3c41d56",
   "metadata": {
    "execution": {
     "iopub.execute_input": "2023-02-21T21:55:00.372353Z",
     "iopub.status.busy": "2023-02-21T21:55:00.371945Z",
     "iopub.status.idle": "2023-02-21T21:55:00.451610Z",
     "shell.execute_reply": "2023-02-21T21:55:00.450191Z"
    },
    "papermill": {
     "duration": 0.088688,
     "end_time": "2023-02-21T21:55:00.453723",
     "exception": false,
     "start_time": "2023-02-21T21:55:00.365035",
     "status": "completed"
    },
    "tags": []
   },
   "outputs": [
    {
     "data": {
      "application/javascript": [
       "parent.postMessage({\"jupyterEvent\": \"custom.exercise_interaction\", \"data\": {\"outcomeType\": 1, \"valueTowardsCompletion\": 0.25, \"interactionType\": 1, \"questionType\": 1, \"questionId\": \"2_StrPoints\", \"learnToolsVersion\": \"0.3.4\", \"failureMessage\": \"\", \"exceptionClass\": \"\", \"trace\": \"\"}}, \"*\")"
      ],
      "text/plain": [
       "<IPython.core.display.Javascript object>"
      ]
     },
     "metadata": {},
     "output_type": "display_data"
    },
    {
     "data": {
      "text/markdown": [
       "<span style=\"color:#33cc33\">Correct</span>"
      ],
      "text/plain": [
       "Correct"
      ]
     },
     "metadata": {},
     "output_type": "display_data"
    }
   ],
   "source": [
    "point_strings = reviews.points.astype(str)\n",
    "\n",
    "# Check your answer\n",
    "q2.check()"
   ]
  },
  {
   "cell_type": "code",
   "execution_count": 5,
   "id": "28357214",
   "metadata": {
    "execution": {
     "iopub.execute_input": "2023-02-21T21:55:00.464688Z",
     "iopub.status.busy": "2023-02-21T21:55:00.464336Z",
     "iopub.status.idle": "2023-02-21T21:55:00.469333Z",
     "shell.execute_reply": "2023-02-21T21:55:00.468104Z"
    },
    "papermill": {
     "duration": 0.013304,
     "end_time": "2023-02-21T21:55:00.471903",
     "exception": false,
     "start_time": "2023-02-21T21:55:00.458599",
     "status": "completed"
    },
    "tags": []
   },
   "outputs": [],
   "source": [
    "#q2.hint()\n",
    "#q2.solution()"
   ]
  },
  {
   "cell_type": "markdown",
   "id": "1320dc33",
   "metadata": {
    "papermill": {
     "duration": 0.004329,
     "end_time": "2023-02-21T21:55:00.481094",
     "exception": false,
     "start_time": "2023-02-21T21:55:00.476765",
     "status": "completed"
    },
    "tags": []
   },
   "source": [
    "## 3.\n",
    "Sometimes the price column is null. How many reviews in the dataset are missing a price?"
   ]
  },
  {
   "cell_type": "code",
   "execution_count": 6,
   "id": "c80af6a1",
   "metadata": {
    "execution": {
     "iopub.execute_input": "2023-02-21T21:55:00.491771Z",
     "iopub.status.busy": "2023-02-21T21:55:00.491441Z",
     "iopub.status.idle": "2023-02-21T21:55:00.504345Z",
     "shell.execute_reply": "2023-02-21T21:55:00.502957Z"
    },
    "papermill": {
     "duration": 0.020808,
     "end_time": "2023-02-21T21:55:00.506537",
     "exception": false,
     "start_time": "2023-02-21T21:55:00.485729",
     "status": "completed"
    },
    "tags": []
   },
   "outputs": [
    {
     "name": "stdout",
     "output_type": "stream",
     "text": [
      "8996\n"
     ]
    },
    {
     "data": {
      "application/javascript": [
       "parent.postMessage({\"jupyterEvent\": \"custom.exercise_interaction\", \"data\": {\"outcomeType\": 1, \"valueTowardsCompletion\": 0.25, \"interactionType\": 1, \"questionType\": 1, \"questionId\": \"3_CountMissingPrices\", \"learnToolsVersion\": \"0.3.4\", \"failureMessage\": \"\", \"exceptionClass\": \"\", \"trace\": \"\"}}, \"*\")"
      ],
      "text/plain": [
       "<IPython.core.display.Javascript object>"
      ]
     },
     "metadata": {},
     "output_type": "display_data"
    },
    {
     "data": {
      "text/markdown": [
       "<span style=\"color:#33cc33\">Correct</span>"
      ],
      "text/plain": [
       "Correct"
      ]
     },
     "metadata": {},
     "output_type": "display_data"
    }
   ],
   "source": [
    "n_missing_prices = pd.isnull(reviews.price).sum()\n",
    "print(n_missing_prices)\n",
    "# Check your answer\n",
    "q3.check()"
   ]
  },
  {
   "cell_type": "code",
   "execution_count": 7,
   "id": "9f96e4e6",
   "metadata": {
    "execution": {
     "iopub.execute_input": "2023-02-21T21:55:00.518291Z",
     "iopub.status.busy": "2023-02-21T21:55:00.517874Z",
     "iopub.status.idle": "2023-02-21T21:55:00.523044Z",
     "shell.execute_reply": "2023-02-21T21:55:00.521379Z"
    },
    "papermill": {
     "duration": 0.014245,
     "end_time": "2023-02-21T21:55:00.525876",
     "exception": false,
     "start_time": "2023-02-21T21:55:00.511631",
     "status": "completed"
    },
    "tags": []
   },
   "outputs": [],
   "source": [
    "#q3.hint()\n",
    "#q3.solution()"
   ]
  },
  {
   "cell_type": "markdown",
   "id": "68d4a839",
   "metadata": {
    "papermill": {
     "duration": 0.004642,
     "end_time": "2023-02-21T21:55:00.535706",
     "exception": false,
     "start_time": "2023-02-21T21:55:00.531064",
     "status": "completed"
    },
    "tags": []
   },
   "source": [
    "## 4.\n",
    "What are the most common wine-producing regions? Create a Series counting the number of times each value occurs in the `region_1` field. This field is often missing data, so replace missing values with `Unknown`. Sort in descending order.  Your output should look something like this:\n",
    "\n",
    "```\n",
    "Unknown                    21247\n",
    "Napa Valley                 4480\n",
    "                           ...  \n",
    "Bardolino Superiore            1\n",
    "Primitivo del Tarantino        1\n",
    "Name: region_1, Length: 1230, dtype: int64\n",
    "```"
   ]
  },
  {
   "cell_type": "code",
   "execution_count": 8,
   "id": "cb348f0b",
   "metadata": {
    "execution": {
     "iopub.execute_input": "2023-02-21T21:55:00.547116Z",
     "iopub.status.busy": "2023-02-21T21:55:00.546756Z",
     "iopub.status.idle": "2023-02-21T21:55:00.556156Z",
     "shell.execute_reply": "2023-02-21T21:55:00.554942Z"
    },
    "papermill": {
     "duration": 0.017569,
     "end_time": "2023-02-21T21:55:00.558160",
     "exception": false,
     "start_time": "2023-02-21T21:55:00.540591",
     "status": "completed"
    },
    "tags": []
   },
   "outputs": [
    {
     "data": {
      "text/plain": [
       "0                        Etna\n",
       "1                         NaN\n",
       "2           Willamette Valley\n",
       "3         Lake Michigan Shore\n",
       "4           Willamette Valley\n",
       "                 ...         \n",
       "129966                    NaN\n",
       "129967                 Oregon\n",
       "129968                 Alsace\n",
       "129969                 Alsace\n",
       "129970                 Alsace\n",
       "Name: region_1, Length: 129971, dtype: object"
      ]
     },
     "execution_count": 8,
     "metadata": {},
     "output_type": "execute_result"
    }
   ],
   "source": [
    "reviews.region_1"
   ]
  },
  {
   "cell_type": "code",
   "execution_count": 9,
   "id": "f2567b52",
   "metadata": {
    "execution": {
     "iopub.execute_input": "2023-02-21T21:55:00.569868Z",
     "iopub.status.busy": "2023-02-21T21:55:00.569506Z",
     "iopub.status.idle": "2023-02-21T21:55:00.605996Z",
     "shell.execute_reply": "2023-02-21T21:55:00.605225Z"
    },
    "papermill": {
     "duration": 0.045422,
     "end_time": "2023-02-21T21:55:00.608702",
     "exception": false,
     "start_time": "2023-02-21T21:55:00.563280",
     "status": "completed"
    },
    "tags": []
   },
   "outputs": [
    {
     "data": {
      "application/javascript": [
       "parent.postMessage({\"jupyterEvent\": \"custom.exercise_interaction\", \"data\": {\"outcomeType\": 1, \"valueTowardsCompletion\": 0.25, \"interactionType\": 1, \"questionType\": 2, \"questionId\": \"4_ReviewsPerRegion\", \"learnToolsVersion\": \"0.3.4\", \"failureMessage\": \"\", \"exceptionClass\": \"\", \"trace\": \"\"}}, \"*\")"
      ],
      "text/plain": [
       "<IPython.core.display.Javascript object>"
      ]
     },
     "metadata": {},
     "output_type": "display_data"
    },
    {
     "data": {
      "text/markdown": [
       "<span style=\"color:#33cc33\">Correct</span>"
      ],
      "text/plain": [
       "Correct"
      ]
     },
     "metadata": {},
     "output_type": "display_data"
    }
   ],
   "source": [
    "reviews_per_region = reviews.region_1.fillna(\"UnKnown\").value_counts()\n",
    "\n",
    "# Check your answer\n",
    "q4.check()"
   ]
  },
  {
   "cell_type": "code",
   "execution_count": 10,
   "id": "f77bb99a",
   "metadata": {
    "execution": {
     "iopub.execute_input": "2023-02-21T21:55:00.621902Z",
     "iopub.status.busy": "2023-02-21T21:55:00.620708Z",
     "iopub.status.idle": "2023-02-21T21:55:00.625720Z",
     "shell.execute_reply": "2023-02-21T21:55:00.624333Z"
    },
    "papermill": {
     "duration": 0.013529,
     "end_time": "2023-02-21T21:55:00.627840",
     "exception": false,
     "start_time": "2023-02-21T21:55:00.614311",
     "status": "completed"
    },
    "tags": []
   },
   "outputs": [],
   "source": [
    "#q4.hint()\n",
    "#q4.solution()"
   ]
  },
  {
   "cell_type": "markdown",
   "id": "fa8a8e89",
   "metadata": {
    "papermill": {
     "duration": 0.00484,
     "end_time": "2023-02-21T21:55:00.638014",
     "exception": false,
     "start_time": "2023-02-21T21:55:00.633174",
     "status": "completed"
    },
    "tags": []
   },
   "source": [
    "# Keep going\n",
    "\n",
    "Move on to **[renaming and combining](https://www.kaggle.com/residentmario/renaming-and-combining)**."
   ]
  },
  {
   "cell_type": "markdown",
   "id": "e36d395b",
   "metadata": {
    "papermill": {
     "duration": 0.004926,
     "end_time": "2023-02-21T21:55:00.648032",
     "exception": false,
     "start_time": "2023-02-21T21:55:00.643106",
     "status": "completed"
    },
    "tags": []
   },
   "source": [
    "---\n",
    "\n",
    "\n",
    "\n",
    "\n",
    "*Have questions or comments? Visit the [course discussion forum](https://www.kaggle.com/learn/pandas/discussion) to chat with other learners.*"
   ]
  }
 ],
 "metadata": {
  "kernelspec": {
   "display_name": "Python 3",
   "language": "python",
   "name": "python3"
  },
  "language_info": {
   "codemirror_mode": {
    "name": "ipython",
    "version": 3
   },
   "file_extension": ".py",
   "mimetype": "text/x-python",
   "name": "python",
   "nbconvert_exporter": "python",
   "pygments_lexer": "ipython3",
   "version": "3.7.12"
  },
  "papermill": {
   "default_parameters": {},
   "duration": 11.434823,
   "end_time": "2023-02-21T21:55:01.377346",
   "environment_variables": {},
   "exception": null,
   "input_path": "__notebook__.ipynb",
   "output_path": "__notebook__.ipynb",
   "parameters": {},
   "start_time": "2023-02-21T21:54:49.942523",
   "version": "2.3.4"
  }
 },
 "nbformat": 4,
 "nbformat_minor": 5
}
